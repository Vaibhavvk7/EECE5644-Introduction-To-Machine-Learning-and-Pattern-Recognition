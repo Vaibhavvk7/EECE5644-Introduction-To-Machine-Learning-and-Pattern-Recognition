{
 "cells": [
  {
   "cell_type": "code",
   "execution_count": 17,
   "id": "a8658d7b",
   "metadata": {},
   "outputs": [],
   "source": [
    "from turtle import color"
   ]
  },
  {
   "cell_type": "code",
   "execution_count": 18,
   "id": "8591f77b",
   "metadata": {},
   "outputs": [],
   "source": [
    "import numpy as np"
   ]
  },
  {
   "cell_type": "code",
   "execution_count": 19,
   "id": "e73eef9f",
   "metadata": {},
   "outputs": [],
   "source": [
    "import matplotlib.pyplot as plt"
   ]
  },
  {
   "cell_type": "code",
   "execution_count": 20,
   "id": "c8e2f879",
   "metadata": {},
   "outputs": [],
   "source": [
    "from scipy.stats import multivariate_normal\n"
   ]
  },
  {
   "cell_type": "code",
   "execution_count": 21,
   "id": "f29cd257",
   "metadata": {},
   "outputs": [],
   "source": [
    "np.set_printoptions(threshold=np.inf)"
   ]
  },
  {
   "cell_type": "code",
   "execution_count": 22,
   "id": "456b54be",
   "metadata": {},
   "outputs": [],
   "source": [
    "plt.rcParams['figure.figsize'] = [9,9]"
   ]
  },
  {
   "cell_type": "code",
   "execution_count": 23,
   "id": "c5e0c61c",
   "metadata": {},
   "outputs": [],
   "source": [
    "N_features = 4               # Number of features\n",
    "N_Samples = 10000            # Number of Samples        \n",
    "N_labels = 2                 # Number of classes"
   ]
  },
  {
   "cell_type": "code",
   "execution_count": 24,
   "id": "c4f0a8ff",
   "metadata": {},
   "outputs": [],
   "source": [
    "# Mean vectors\n",
    "mean_matrix = np.ones(shape=[N_labels, N_features])\n",
    "mean_matrix [0, :] = [-1,-1,-1,-1]"
   ]
  },
  {
   "cell_type": "code",
   "execution_count": 25,
   "id": "370d10c0",
   "metadata": {},
   "outputs": [],
   "source": [
    "# Covariance matrices\n",
    "covariance_matrix = np.ones(shape=[N_labels, N_features, N_features])\n",
    "covariance_matrix [0, :, :] = [[2, -0.5, 0.3, 0],[-0.5, 1, -0.5, 0], [0.3, -0.5, 1, 0], [0, 0, 0, 2]]\n",
    "covariance_matrix [1, :, :] = [[1, 0.3, -0.2, 0], [0.3, 2, 0.3, 0], [-0.2, 0.3, 1, 0], [0, 0, 0, 3]]\n",
    "\n",
    "#Seed to obtain same results for random numbers\n",
    "np.random.seed(10) \n",
    "\n",
    "# Class Priors and assigning labels\n",
    "priors = [0.65, 0.35]\n",
    "label = (np.random.rand(N_Samples) >= priors[1]).astype(int)"
   ]
  },
  {
   "cell_type": "code",
   "execution_count": 26,
   "id": "ecb92935",
   "metadata": {},
   "outputs": [],
   "source": [
    "# Generate gaussian distribution for 10000 samples using mean and covariance matrices for each label\n",
    "X = np.zeros(shape = [N_Samples, N_features])\n",
    "for i in range(N_Samples): \n",
    "        if (label[i] == 0):\n",
    "                X[i, :] = np.random.multivariate_normal(mean_matrix[0, :], covariance_matrix[0, :,:])\n",
    "        elif (label[i] == 1):\n",
    "                X[i, :] = np.random.multivariate_normal(mean_matrix[1, :], covariance_matrix[1, :,:])\n"
   ]
  },
  {
   "cell_type": "code",
   "execution_count": 27,
   "id": "b201bba0",
   "metadata": {},
   "outputs": [],
   "source": [
    "# Compute discriminant score using class conditional PDF\n",
    "GaussPDF0 = np.log(multivariate_normal.pdf(X,mean = mean_matrix[0, :], cov = np.eye(N_features, N_features)))\n",
    "GaussPDF1 = np.log(multivariate_normal.pdf(X,mean = mean_matrix[1, :], cov = np.eye(N_features, N_features)))\n",
    "discrim_score = GaussPDF1 - GaussPDF0\n",
    "\n",
    "# Sort tau values to navigate from minimum to maximum value\n",
    "sorted_tau = np.sort(discrim_score)\n",
    "tau_sweep = []\n"
   ]
  },
  {
   "cell_type": "code",
   "execution_count": 28,
   "id": "330960b0",
   "metadata": {},
   "outputs": [],
   "source": [
    "#Calculate mid-points which will be used as threshold values\n",
    "for i in range(0,9999):\n",
    "        tau_sweep.append((sorted_tau[i] + sorted_tau[i+1])/2.0)"
   ]
  },
  {
   "cell_type": "code",
   "execution_count": 29,
   "id": "4d176d15",
   "metadata": {},
   "outputs": [],
   "source": [
    "# Array initialization for results\n",
    "decision = []\n",
    "TP = [None] * len(tau_sweep)\n",
    "FP = [None] * len(tau_sweep)\n",
    "minPerror = [None] * len(tau_sweep)\n",
    "\n",
    "# Classify for each threshold and compute error and evaluation metrics\n",
    "for (index, tau) in enumerate(tau_sweep):\n",
    "        decision = (discrim_score >= tau)\n",
    "        TP[index] = (np.size(np.where((decision == 1) & (label == 1))))/np.size(np.where(label == 1))\n",
    "        FP[index] = (np.size(np.where((decision == 1) & (label == 0))))/np.size(np.where(label == 0))\n",
    "        minPerror[index] = (priors[0] * FP[index]) + (priors[1] * (1 - TP[index]))"
   ]
  },
  {
   "cell_type": "code",
   "execution_count": 30,
   "id": "fc3a9331",
   "metadata": {},
   "outputs": [
    {
     "name": "stdout",
     "output_type": "stream",
     "text": [
      "Gamma Ideal - 1.857143 and corresponding minimum error 0.046865\n"
     ]
    }
   ],
   "source": [
    "# Theoretical classification based on class priors\n",
    "loggamma_ideal = np.log(priors[0] / priors[1])\n",
    "ideal_decision = (discrim_score >= loggamma_ideal)\n",
    "TP_ideal = (np.size(np.where((ideal_decision == 1) & (label == 1))))/np.size(np.where(label == 1))\n",
    "FP_ideal = (np.size(np.where((ideal_decision == 1) & (label == 0))))/np.size(np.where(label == 0))\n",
    "minPerror_ideal = (priors[0] * FP_ideal) + (priors[1] * (1 - TP_ideal))\n",
    "print(\"Gamma Ideal - %f and corresponding minimum error %f\" %(np.exp(loggamma_ideal), minPerror_ideal))"
   ]
  },
  {
   "cell_type": "code",
   "execution_count": 31,
   "id": "3978d115",
   "metadata": {},
   "outputs": [
    {
     "data": {
      "image/png": "[encoded data removed]",
      "text/plain": [
       "<Figure size 900x900 with 1 Axes>"
      ]
     },
     "metadata": {},
     "output_type": "display_data"
    }
   ],
   "source": [
    "# Plot ROC curve\n",
    "plt.plot(FP, TP, color = 'red')\n",
    "plt.xlabel('False Positive')\n",
    "plt.ylabel('True Positive')\n",
    "plt.title('ROC Curve')\n",
    "plt.plot(FP[np.argmin(minPerror)], TP[np.argmin(minPerror)],'o',color = 'black')\n",
    "plt.show()"
   ]
  },
  {
   "cell_type": "code",
   "execution_count": 33,
   "id": "6b32bbce",
   "metadata": {},
   "outputs": [
    {
     "name": "stdout",
     "output_type": "stream",
     "text": [
      "Gamma Practical - 1.568752 and corresponding minimum error 0.045701\n"
     ]
    }
   ],
   "source": [
    "print(\"Gamma Practical - %f and corresponding minimum error %f\" %(np.exp(tau_sweep[np.argmin(minPerror)]), np.min(minPerror)))"
   ]
  },
  {
   "cell_type": "code",
   "execution_count": null,
   "id": "3d3631e3",
   "metadata": {},
   "outputs": [],
   "source": []
  }
 ],
 "metadata": {
  "kernelspec": {
   "display_name": "Python 3 (ipykernel)",
   "language": "python",
   "name": "python3"
  },
  "language_info": {
   "codemirror_mode": {
    "name": "ipython",
    "version": 3
   },
   "file_extension": ".py",
   "mimetype": "text/x-python",
   "name": "python",
   "nbconvert_exporter": "python",
   "pygments_lexer": "ipython3",
   "version": "3.11.5"
  }
 },
 "nbformat": 4,
 "nbformat_minor": 5
}
